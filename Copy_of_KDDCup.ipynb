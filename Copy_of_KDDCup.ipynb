{
  "nbformat": 4,
  "nbformat_minor": 0,
  "metadata": {
    "colab": {
      "provenance": [],
      "authorship_tag": "ABX9TyMK8Y7dhuoss2uhrwuX730l",
      "include_colab_link": true
    },
    "kernelspec": {
      "name": "python3",
      "display_name": "Python 3"
    },
    "language_info": {
      "name": "python"
    }
  },
  "cells": [
    {
      "cell_type": "markdown",
      "metadata": {
        "id": "view-in-github",
        "colab_type": "text"
      },
      "source": [
        "<a href=\"https://colab.research.google.com/github/BHAUMIKSINH7471/Code-with-Node/blob/master/Copy_of_KDDCup.ipynb\" target=\"_parent\"><img src=\"https://colab.research.google.com/assets/colab-badge.svg\" alt=\"Open In Colab\"/></a>"
      ]
    },
    {
      "cell_type": "code",
      "execution_count": null,
      "metadata": {
        "colab": {
          "base_uri": "https://localhost:8080/"
        },
        "id": "eZjn3uBJwrdC",
        "outputId": "e4323f93-6937-4db4-93f4-aed027b55cbf"
      },
      "outputs": [
        {
          "output_type": "stream",
          "name": "stdout",
          "text": [
            "Looking in indexes: https://pypi.org/simple, https://us-python.pkg.dev/colab-wheels/public/simple/\n",
            "Collecting pyspark\n",
            "  Downloading pyspark-3.3.1.tar.gz (281.4 MB)\n",
            "\u001b[K     |████████████████████████████████| 281.4 MB 38 kB/s \n",
            "\u001b[?25hCollecting py4j==0.10.9.5\n",
            "  Downloading py4j-0.10.9.5-py2.py3-none-any.whl (199 kB)\n",
            "\u001b[K     |████████████████████████████████| 199 kB 58.9 MB/s \n",
            "\u001b[?25hBuilding wheels for collected packages: pyspark\n",
            "  Building wheel for pyspark (setup.py) ... \u001b[?25l\u001b[?25hdone\n",
            "  Created wheel for pyspark: filename=pyspark-3.3.1-py2.py3-none-any.whl size=281845514 sha256=71489f2488262921a51e7daf82b6a85501de46206312ed46981d7330bb616ea0\n",
            "  Stored in directory: /root/.cache/pip/wheels/42/59/f5/79a5bf931714dcd201b26025347785f087370a10a3329a899c\n",
            "Successfully built pyspark\n",
            "Installing collected packages: py4j, pyspark\n",
            "Successfully installed py4j-0.10.9.5 pyspark-3.3.1\n"
          ]
        }
      ],
      "source": [
        "!pip install pyspark "
      ]
    },
    {
      "cell_type": "code",
      "source": [
        "import urllib.request \n",
        "urllib.request.urlretrieve(\"http://kdd.ics.uci.edu/databases/kddcup99/kddcup.data.gz\", \"kddcup.data.gz\")"
      ],
      "metadata": {
        "colab": {
          "base_uri": "https://localhost:8080/"
        },
        "id": "gcjK8o8nxY6b",
        "outputId": "7ef00ff8-956b-4bb0-8609-a98e3b126200"
      },
      "execution_count": null,
      "outputs": [
        {
          "output_type": "execute_result",
          "data": {
            "text/plain": [
              "('kddcup.data.gz', <http.client.HTTPMessage at 0x7f57a9faaa10>)"
            ]
          },
          "metadata": {},
          "execution_count": 3
        }
      ]
    },
    {
      "cell_type": "code",
      "source": [
        "from pyspark.sql import SparkSession\n",
        "spark = SparkSession \\\n",
        "    .builder \\\n",
        "    .appName(\"Python Spark SQL basic example\") \\\n",
        "    .config(\"spark.some.config.option\", \"some-value\") \\\n",
        "    .getOrCreate()\n"
      ],
      "metadata": {
        "id": "pEMARcRQxhx3"
      },
      "execution_count": null,
      "outputs": []
    },
    {
      "cell_type": "code",
      "source": [
        "df = spark.read.csv(\"./kddcup.data.gz\")\n",
        "df.show()\n"
      ],
      "metadata": {
        "colab": {
          "base_uri": "https://localhost:8080/"
        },
        "id": "gUAodlqBxnyF",
        "outputId": "e41fcce0-3448-497a-e8fc-4deb31dc7ba2"
      },
      "execution_count": null,
      "outputs": [
        {
          "output_type": "stream",
          "name": "stdout",
          "text": [
            "+---+---+----+---+---+-----+---+---+---+---+----+----+----+----+----+----+----+----+----+----+----+----+----+----+----+----+----+----+----+----+----+----+----+----+----+----+----+----+----+----+----+-------+\n",
            "|_c0|_c1| _c2|_c3|_c4|  _c5|_c6|_c7|_c8|_c9|_c10|_c11|_c12|_c13|_c14|_c15|_c16|_c17|_c18|_c19|_c20|_c21|_c22|_c23|_c24|_c25|_c26|_c27|_c28|_c29|_c30|_c31|_c32|_c33|_c34|_c35|_c36|_c37|_c38|_c39|_c40|   _c41|\n",
            "+---+---+----+---+---+-----+---+---+---+---+----+----+----+----+----+----+----+----+----+----+----+----+----+----+----+----+----+----+----+----+----+----+----+----+----+----+----+----+----+----+----+-------+\n",
            "|  0|tcp|http| SF|215|45076|  0|  0|  0|  0|   0|   1|   0|   0|   0|   0|   0|   0|   0|   0|   0|   0|   1|   1|0.00|0.00|0.00|0.00|1.00|0.00|0.00|   0|   0|0.00|0.00|0.00|0.00|0.00|0.00|0.00|0.00|normal.|\n",
            "|  0|tcp|http| SF|162| 4528|  0|  0|  0|  0|   0|   1|   0|   0|   0|   0|   0|   0|   0|   0|   0|   0|   2|   2|0.00|0.00|0.00|0.00|1.00|0.00|0.00|   1|   1|1.00|0.00|1.00|0.00|0.00|0.00|0.00|0.00|normal.|\n",
            "|  0|tcp|http| SF|236| 1228|  0|  0|  0|  0|   0|   1|   0|   0|   0|   0|   0|   0|   0|   0|   0|   0|   1|   1|0.00|0.00|0.00|0.00|1.00|0.00|0.00|   2|   2|1.00|0.00|0.50|0.00|0.00|0.00|0.00|0.00|normal.|\n",
            "|  0|tcp|http| SF|233| 2032|  0|  0|  0|  0|   0|   1|   0|   0|   0|   0|   0|   0|   0|   0|   0|   0|   2|   2|0.00|0.00|0.00|0.00|1.00|0.00|0.00|   3|   3|1.00|0.00|0.33|0.00|0.00|0.00|0.00|0.00|normal.|\n",
            "|  0|tcp|http| SF|239|  486|  0|  0|  0|  0|   0|   1|   0|   0|   0|   0|   0|   0|   0|   0|   0|   0|   3|   3|0.00|0.00|0.00|0.00|1.00|0.00|0.00|   4|   4|1.00|0.00|0.25|0.00|0.00|0.00|0.00|0.00|normal.|\n",
            "|  0|tcp|http| SF|238| 1282|  0|  0|  0|  0|   0|   1|   0|   0|   0|   0|   0|   0|   0|   0|   0|   0|   4|   4|0.00|0.00|0.00|0.00|1.00|0.00|0.00|   5|   5|1.00|0.00|0.20|0.00|0.00|0.00|0.00|0.00|normal.|\n",
            "|  0|tcp|http| SF|235| 1337|  0|  0|  0|  0|   0|   1|   0|   0|   0|   0|   0|   0|   0|   0|   0|   0|   5|   5|0.00|0.00|0.00|0.00|1.00|0.00|0.00|   6|   6|1.00|0.00|0.17|0.00|0.00|0.00|0.00|0.00|normal.|\n",
            "|  0|tcp|http| SF|234| 1364|  0|  0|  0|  0|   0|   1|   0|   0|   0|   0|   0|   0|   0|   0|   0|   0|   6|   6|0.00|0.00|0.00|0.00|1.00|0.00|0.00|   7|   7|1.00|0.00|0.14|0.00|0.00|0.00|0.00|0.00|normal.|\n",
            "|  0|tcp|http| SF|239| 1295|  0|  0|  0|  0|   0|   1|   0|   0|   0|   0|   0|   0|   0|   0|   0|   0|   7|   7|0.00|0.00|0.00|0.00|1.00|0.00|0.00|   8|   8|1.00|0.00|0.12|0.00|0.00|0.00|0.00|0.00|normal.|\n",
            "|  0|tcp|http| SF|181| 5450|  0|  0|  0|  0|   0|   1|   0|   0|   0|   0|   0|   0|   0|   0|   0|   0|   8|   8|0.00|0.00|0.00|0.00|1.00|0.00|0.00|   9|   9|1.00|0.00|0.11|0.00|0.00|0.00|0.00|0.00|normal.|\n",
            "|  0|tcp|http| SF|184|  124|  0|  0|  0|  0|   0|   1|   0|   0|   0|   0|   0|   0|   0|   0|   0|   0|   1|   1|0.00|0.00|0.00|0.00|1.00|0.00|0.00|  10|  10|1.00|0.00|0.10|0.00|0.00|0.00|0.00|0.00|normal.|\n",
            "|  0|tcp|http| SF|185| 9020|  0|  0|  0|  0|   0|   1|   0|   0|   0|   0|   0|   0|   0|   0|   0|   0|   2|   2|0.00|0.00|0.00|0.00|1.00|0.00|0.00|  11|  11|1.00|0.00|0.09|0.00|0.00|0.00|0.00|0.00|normal.|\n",
            "|  0|tcp|http| SF|239| 1295|  0|  0|  0|  0|   0|   1|   0|   0|   0|   0|   0|   0|   0|   0|   0|   0|   1|   1|0.00|0.00|0.00|0.00|1.00|0.00|0.00|  12|  12|1.00|0.00|0.08|0.00|0.00|0.00|0.00|0.00|normal.|\n",
            "|  0|tcp|http| SF|181| 5450|  0|  0|  0|  0|   0|   1|   0|   0|   0|   0|   0|   0|   0|   0|   0|   0|   2|   2|0.00|0.00|0.00|0.00|1.00|0.00|0.00|  13|  13|1.00|0.00|0.08|0.00|0.00|0.00|0.00|0.00|normal.|\n",
            "|  0|tcp|http| SF|236| 1228|  0|  0|  0|  0|   0|   1|   0|   0|   0|   0|   0|   0|   0|   0|   0|   0|   3|   3|0.00|0.00|0.00|0.00|1.00|0.00|0.00|  14|  14|1.00|0.00|0.07|0.00|0.00|0.00|0.00|0.00|normal.|\n",
            "|  0|tcp|http| SF|233| 2032|  0|  0|  0|  0|   0|   1|   0|   0|   0|   0|   0|   0|   0|   0|   0|   0|   4|   4|0.00|0.00|0.00|0.00|1.00|0.00|0.00|  15|  15|1.00|0.00|0.07|0.00|0.00|0.00|0.00|0.00|normal.|\n",
            "|  0|tcp|http| SF|238| 1282|  0|  0|  0|  0|   0|   1|   0|   0|   0|   0|   0|   0|   0|   0|   0|   0|   5|   5|0.00|0.00|0.00|0.00|1.00|0.00|0.00|  16|  16|1.00|0.00|0.06|0.00|0.00|0.00|0.00|0.00|normal.|\n",
            "|  0|tcp|http| SF|235| 1337|  0|  0|  0|  0|   0|   1|   0|   0|   0|   0|   0|   0|   0|   0|   0|   0|   6|   6|0.00|0.00|0.00|0.00|1.00|0.00|0.00|  17|  17|1.00|0.00|0.06|0.00|0.00|0.00|0.00|0.00|normal.|\n",
            "|  0|tcp|http| SF|234| 1364|  0|  0|  0|  0|   0|   1|   0|   0|   0|   0|   0|   0|   0|   0|   0|   0|   7|   7|0.00|0.00|0.00|0.00|1.00|0.00|0.00|  18|  18|1.00|0.00|0.06|0.00|0.00|0.00|0.00|0.00|normal.|\n",
            "|  0|tcp|http| SF|239|  486|  0|  0|  0|  0|   0|   1|   0|   0|   0|   0|   0|   0|   0|   0|   0|   0|   8|   8|0.00|0.00|0.00|0.00|1.00|0.00|0.00|  19|  19|1.00|0.00|0.05|0.00|0.00|0.00|0.00|0.00|normal.|\n",
            "+---+---+----+---+---+-----+---+---+---+---+----+----+----+----+----+----+----+----+----+----+----+----+----+----+----+----+----+----+----+----+----+----+----+----+----+----+----+----+----+----+----+-------+\n",
            "only showing top 20 rows\n",
            "\n"
          ]
        }
      ]
    },
    {
      "cell_type": "code",
      "source": [
        "\n"
      ],
      "metadata": {
        "colab": {
          "base_uri": "https://localhost:8080/"
        },
        "id": "eW9TgzMByta0",
        "outputId": "d15f02a8-b0a3-478b-eedd-0868bc953310"
      },
      "execution_count": null,
      "outputs": [
        {
          "output_type": "stream",
          "name": "stdout",
          "text": [
            "+---+---+----+---+---+-----+---+---+---+---+----+----+----+----+----+----+----+----+----+----+----+----+----+----+----+----+----+----+----+----+----+----+----+----+----+----+----+----+----+----+----+-------+\n",
            "|_c0|_c1| _c2|_c3|_c4|  _c5|_c6|_c7|_c8|_c9|_c10|_c11|_c12|_c13|_c14|_c15|_c16|_c17|_c18|_c19|_c20|_c21|_c22|_c23|_c24|_c25|_c26|_c27|_c28|_c29|_c30|_c31|_c32|_c33|_c34|_c35|_c36|_c37|_c38|_c39|_c40|   _c41|\n",
            "+---+---+----+---+---+-----+---+---+---+---+----+----+----+----+----+----+----+----+----+----+----+----+----+----+----+----+----+----+----+----+----+----+----+----+----+----+----+----+----+----+----+-------+\n",
            "|  0|tcp|http| SF|215|45076|  0|  0|  0|  0|   0|   1|   0|   0|   0|   0|   0|   0|   0|   0|   0|   0|   1|   1|0.00|0.00|0.00|0.00|1.00|0.00|0.00|   0|   0|0.00|0.00|0.00|0.00|0.00|0.00|0.00|0.00|normal.|\n",
            "|  0|tcp|http| SF|162| 4528|  0|  0|  0|  0|   0|   1|   0|   0|   0|   0|   0|   0|   0|   0|   0|   0|   2|   2|0.00|0.00|0.00|0.00|1.00|0.00|0.00|   1|   1|1.00|0.00|1.00|0.00|0.00|0.00|0.00|0.00|normal.|\n",
            "|  0|tcp|http| SF|236| 1228|  0|  0|  0|  0|   0|   1|   0|   0|   0|   0|   0|   0|   0|   0|   0|   0|   1|   1|0.00|0.00|0.00|0.00|1.00|0.00|0.00|   2|   2|1.00|0.00|0.50|0.00|0.00|0.00|0.00|0.00|normal.|\n",
            "|  0|tcp|http| SF|233| 2032|  0|  0|  0|  0|   0|   1|   0|   0|   0|   0|   0|   0|   0|   0|   0|   0|   2|   2|0.00|0.00|0.00|0.00|1.00|0.00|0.00|   3|   3|1.00|0.00|0.33|0.00|0.00|0.00|0.00|0.00|normal.|\n",
            "|  0|tcp|http| SF|239|  486|  0|  0|  0|  0|   0|   1|   0|   0|   0|   0|   0|   0|   0|   0|   0|   0|   3|   3|0.00|0.00|0.00|0.00|1.00|0.00|0.00|   4|   4|1.00|0.00|0.25|0.00|0.00|0.00|0.00|0.00|normal.|\n",
            "|  0|tcp|http| SF|238| 1282|  0|  0|  0|  0|   0|   1|   0|   0|   0|   0|   0|   0|   0|   0|   0|   0|   4|   4|0.00|0.00|0.00|0.00|1.00|0.00|0.00|   5|   5|1.00|0.00|0.20|0.00|0.00|0.00|0.00|0.00|normal.|\n",
            "|  0|tcp|http| SF|235| 1337|  0|  0|  0|  0|   0|   1|   0|   0|   0|   0|   0|   0|   0|   0|   0|   0|   5|   5|0.00|0.00|0.00|0.00|1.00|0.00|0.00|   6|   6|1.00|0.00|0.17|0.00|0.00|0.00|0.00|0.00|normal.|\n",
            "|  0|tcp|http| SF|234| 1364|  0|  0|  0|  0|   0|   1|   0|   0|   0|   0|   0|   0|   0|   0|   0|   0|   6|   6|0.00|0.00|0.00|0.00|1.00|0.00|0.00|   7|   7|1.00|0.00|0.14|0.00|0.00|0.00|0.00|0.00|normal.|\n",
            "|  0|tcp|http| SF|239| 1295|  0|  0|  0|  0|   0|   1|   0|   0|   0|   0|   0|   0|   0|   0|   0|   0|   7|   7|0.00|0.00|0.00|0.00|1.00|0.00|0.00|   8|   8|1.00|0.00|0.12|0.00|0.00|0.00|0.00|0.00|normal.|\n",
            "|  0|tcp|http| SF|181| 5450|  0|  0|  0|  0|   0|   1|   0|   0|   0|   0|   0|   0|   0|   0|   0|   0|   8|   8|0.00|0.00|0.00|0.00|1.00|0.00|0.00|   9|   9|1.00|0.00|0.11|0.00|0.00|0.00|0.00|0.00|normal.|\n",
            "|  0|tcp|http| SF|184|  124|  0|  0|  0|  0|   0|   1|   0|   0|   0|   0|   0|   0|   0|   0|   0|   0|   1|   1|0.00|0.00|0.00|0.00|1.00|0.00|0.00|  10|  10|1.00|0.00|0.10|0.00|0.00|0.00|0.00|0.00|normal.|\n",
            "|  0|tcp|http| SF|185| 9020|  0|  0|  0|  0|   0|   1|   0|   0|   0|   0|   0|   0|   0|   0|   0|   0|   2|   2|0.00|0.00|0.00|0.00|1.00|0.00|0.00|  11|  11|1.00|0.00|0.09|0.00|0.00|0.00|0.00|0.00|normal.|\n",
            "|  0|tcp|http| SF|239| 1295|  0|  0|  0|  0|   0|   1|   0|   0|   0|   0|   0|   0|   0|   0|   0|   0|   1|   1|0.00|0.00|0.00|0.00|1.00|0.00|0.00|  12|  12|1.00|0.00|0.08|0.00|0.00|0.00|0.00|0.00|normal.|\n",
            "|  0|tcp|http| SF|181| 5450|  0|  0|  0|  0|   0|   1|   0|   0|   0|   0|   0|   0|   0|   0|   0|   0|   2|   2|0.00|0.00|0.00|0.00|1.00|0.00|0.00|  13|  13|1.00|0.00|0.08|0.00|0.00|0.00|0.00|0.00|normal.|\n",
            "|  0|tcp|http| SF|236| 1228|  0|  0|  0|  0|   0|   1|   0|   0|   0|   0|   0|   0|   0|   0|   0|   0|   3|   3|0.00|0.00|0.00|0.00|1.00|0.00|0.00|  14|  14|1.00|0.00|0.07|0.00|0.00|0.00|0.00|0.00|normal.|\n",
            "|  0|tcp|http| SF|233| 2032|  0|  0|  0|  0|   0|   1|   0|   0|   0|   0|   0|   0|   0|   0|   0|   0|   4|   4|0.00|0.00|0.00|0.00|1.00|0.00|0.00|  15|  15|1.00|0.00|0.07|0.00|0.00|0.00|0.00|0.00|normal.|\n",
            "|  0|tcp|http| SF|238| 1282|  0|  0|  0|  0|   0|   1|   0|   0|   0|   0|   0|   0|   0|   0|   0|   0|   5|   5|0.00|0.00|0.00|0.00|1.00|0.00|0.00|  16|  16|1.00|0.00|0.06|0.00|0.00|0.00|0.00|0.00|normal.|\n",
            "|  0|tcp|http| SF|235| 1337|  0|  0|  0|  0|   0|   1|   0|   0|   0|   0|   0|   0|   0|   0|   0|   0|   6|   6|0.00|0.00|0.00|0.00|1.00|0.00|0.00|  17|  17|1.00|0.00|0.06|0.00|0.00|0.00|0.00|0.00|normal.|\n",
            "|  0|tcp|http| SF|234| 1364|  0|  0|  0|  0|   0|   1|   0|   0|   0|   0|   0|   0|   0|   0|   0|   0|   7|   7|0.00|0.00|0.00|0.00|1.00|0.00|0.00|  18|  18|1.00|0.00|0.06|0.00|0.00|0.00|0.00|0.00|normal.|\n",
            "|  0|tcp|http| SF|239|  486|  0|  0|  0|  0|   0|   1|   0|   0|   0|   0|   0|   0|   0|   0|   0|   0|   8|   8|0.00|0.00|0.00|0.00|1.00|0.00|0.00|  19|  19|1.00|0.00|0.05|0.00|0.00|0.00|0.00|0.00|normal.|\n",
            "+---+---+----+---+---+-----+---+---+---+---+----+----+----+----+----+----+----+----+----+----+----+----+----+----+----+----+----+----+----+----+----+----+----+----+----+----+----+----+----+----+----+-------+\n",
            "only showing top 20 rows\n",
            "\n"
          ]
        }
      ]
    },
    {
      "cell_type": "code",
      "source": [
        "df.columns"
      ],
      "metadata": {
        "colab": {
          "base_uri": "https://localhost:8080/"
        },
        "id": "z3AyLP9gy9mp",
        "outputId": "eff4e14f-b301-43ab-9162-3a7fcfca0c6d"
      },
      "execution_count": null,
      "outputs": [
        {
          "output_type": "execute_result",
          "data": {
            "text/plain": [
              "['_c0',\n",
              " '_c1',\n",
              " '_c2',\n",
              " '_c3',\n",
              " '_c4',\n",
              " '_c5',\n",
              " '_c6',\n",
              " '_c7',\n",
              " '_c8',\n",
              " '_c9',\n",
              " '_c10',\n",
              " '_c11',\n",
              " '_c12',\n",
              " '_c13',\n",
              " '_c14',\n",
              " '_c15',\n",
              " '_c16',\n",
              " '_c17',\n",
              " '_c18',\n",
              " '_c19',\n",
              " '_c20',\n",
              " '_c21',\n",
              " '_c22',\n",
              " '_c23',\n",
              " '_c24',\n",
              " '_c25',\n",
              " '_c26',\n",
              " '_c27',\n",
              " '_c28',\n",
              " '_c29',\n",
              " '_c30',\n",
              " '_c31',\n",
              " '_c32',\n",
              " '_c33',\n",
              " '_c34',\n",
              " '_c35',\n",
              " '_c36',\n",
              " '_c37',\n",
              " '_c38',\n",
              " '_c39',\n",
              " '_c40',\n",
              " '_c41']"
            ]
          },
          "metadata": {},
          "execution_count": 12
        }
      ]
    },
    {
      "cell_type": "code",
      "source": [
        "df2 = df.withColumnRenamed(\"_c0\",\"duration\") \\\n",
        "    .withColumnRenamed(\"_c1\",\"protocol_type\")\\\n",
        "    .withColumnRenamed(\"_c2\",\"service\")\\\n",
        "    .withColumnRenamed(\"_c3\",\"flag\")\\\n",
        "    .withColumnRenamed(\"_c4\",\"src_bytes\")\\\n",
        "    .withColumnRenamed(\"_c5\",\"dst_bytes\")\\\n",
        ".withColumnRenamed(\"_c6\",\"land\")\\\n",
        "    .withColumnRenamed(\"_c7\",\"wrong_fragment\")\\\n",
        "    .withColumnRenamed(\"_c8\",\"urgent\")\\\n",
        "    .withColumnRenamed(\"_c9\",\"host\")\\\n",
        "    .withColumnRenamed(\"_c10\",\"num_failed_logins\")\\\n",
        "    .withColumnRenamed(\"_c11\",\"logged_in\")\\\n",
        "    .withColumnRenamed(\"_c12\",\"num_compromised\")\\\n",
        "    .withColumnRenamed(\"_c13\",\"root_shell\")\\\n",
        "    .withColumnRenamed(\"_c14\",\"su_attempted\")\\\n",
        "    .withColumnRenamed(\"_c15\",\"num_root\")\\\n",
        "    .withColumnRenamed(\"_c16\",\"num_file_creations\")\\\n",
        "    .withColumnRenamed(\"_c17\",\"num_shells\")\\\n",
        "    .withColumnRenamed(\"_c18\",\"num_access_files\")\\\n",
        "    .withColumnRenamed(\"_c19\",\"num_outbound_cmds\")\\\n",
        "    .withColumnRenamed(\"_c20\",\"is_host_login\")\\\n",
        "    .withColumnRenamed(\"_c21\",\"is_guest_login\")\\\n",
        "    .withColumnRenamed(\"_c22\",\"count\")\\\n",
        "    .withColumnRenamed(\"_c23\",\"srv_count\")\\\n",
        "    .withColumnRenamed(\"_c24\",\"serror_rate\")\\\n",
        "    .withColumnRenamed(\"_c25\",\"srv_serror_rate\")\\\n",
        "    .withColumnRenamed(\"_c26\",\"rerror_rate\")\\\n",
        "    .withColumnRenamed(\"_c27\",\"srv_rerror_rate\")\\\n",
        "    .withColumnRenamed(\"_c28\",\"same_srv_rate\")\\\n",
        "    .withColumnRenamed(\"_c29\",\"diff_srv_rate\")\\\n",
        "    .withColumnRenamed(\"_c30\",\"srv_diff_host_rate\")\\\n",
        "    .withColumnRenamed(\"_c31\",\"dst_host_count\")\\\n",
        "    .withColumnRenamed(\"_c32\",\"dst_host_srv_count\")\\\n",
        "    .withColumnRenamed(\"_c33\",\"dst_host_same_srv_rate\")\\\n",
        "    .withColumnRenamed(\"_c34\",\"dst_host_diff_srv_rate\")\\\n",
        "    .withColumnRenamed(\"_c35\",\"dst_host_same_src_port_rate\")\\\n",
        "    .withColumnRenamed(\"_c36\",\"dst_host_srv_diff_host_rate\")\\\n",
        "    .withColumnRenamed(\"_c37\",\"dst_host_serror_rate\")\\\n",
        "    .withColumnRenamed(\"_c38\",\"dst_host_srv_serror_rate\")\\\n",
        "    .withColumnRenamed(\"_c39\",\"dst_host_rerror_rate\")\\\n",
        "    .withColumnRenamed(\"_c40\",\"dst_host_srv_rerror_rate\")\\\n",
        "    .withColumnRenamed(\"_c41\",\"connection_status\")\n",
        "\n",
        "\n",
        "\n",
        "df2.columns\n",
        "\n"
      ],
      "metadata": {
        "colab": {
          "base_uri": "https://localhost:8080/"
        },
        "id": "v1xcOPZCzfmB",
        "outputId": "bf41f737-d84a-474c-dc9d-53987b671a53"
      },
      "execution_count": null,
      "outputs": [
        {
          "output_type": "execute_result",
          "data": {
            "text/plain": [
              "['duration',\n",
              " 'protocol_type',\n",
              " 'service',\n",
              " 'flag',\n",
              " 'src_bytes',\n",
              " 'dst_bytes',\n",
              " 'land',\n",
              " 'wrong_fragment',\n",
              " 'urgent',\n",
              " 'host',\n",
              " 'num_failed_logins',\n",
              " 'logged_in',\n",
              " 'num_compromised',\n",
              " 'root_shell',\n",
              " 'su_attempted',\n",
              " 'num_root',\n",
              " 'num_file_creations',\n",
              " 'num_shells',\n",
              " 'num_access_files',\n",
              " 'num_outbound_cmds',\n",
              " 'is_host_login',\n",
              " 'is_guest_login',\n",
              " 'count',\n",
              " 'srv_count',\n",
              " 'serror_rate',\n",
              " 'srv_serror_rate',\n",
              " 'rerror_rate',\n",
              " 'srv_rerror_rate',\n",
              " 'same_srv_rate',\n",
              " 'diff_srv_rate',\n",
              " 'srv_diff_host_rate',\n",
              " 'dst_host_count',\n",
              " 'dst_host_srv_count',\n",
              " 'dst_host_same_srv_rate',\n",
              " 'dst_host_diff_srv_rate',\n",
              " 'dst_host_same_src_port_rate',\n",
              " 'dst_host_srv_diff_host_rate',\n",
              " 'dst_host_serror_rate',\n",
              " 'dst_host_srv_serror_rate',\n",
              " 'dst_host_rerror_rate',\n",
              " 'dst_host_srv_rerror_rate',\n",
              " 'connection_status']"
            ]
          },
          "metadata": {},
          "execution_count": 15
        }
      ]
    },
    {
      "cell_type": "code",
      "source": [
        "df2.createOrReplaceTempView(\"KddView\") \n",
        "sqlDF = spark.sql(\"SELECT * FROM KddView\") \n",
        "sqlDF.show()\n"
      ],
      "metadata": {
        "id": "JIDXdvVyz1AS"
      },
      "execution_count": null,
      "outputs": []
    },
    {
      "cell_type": "code",
      "source": [
        "sqlDF = spark.sql(\"SELECT connection_status, count(*) FROM KddView GROUP BY connection_status\") \n",
        "sqlDF.show()\n"
      ],
      "metadata": {
        "colab": {
          "base_uri": "https://localhost:8080/"
        },
        "id": "1ThF7sF1zkAC",
        "outputId": "dcb6f877-6f3f-4e1e-8f5c-72d12dcfccf8"
      },
      "execution_count": null,
      "outputs": [
        {
          "output_type": "stream",
          "name": "stdout",
          "text": [
            "+-----------------+--------+\n",
            "|connection_status|count(1)|\n",
            "+-----------------+--------+\n",
            "|     warezmaster.|      20|\n",
            "|           smurf.| 2807886|\n",
            "|             pod.|     264|\n",
            "|            imap.|      12|\n",
            "|            nmap.|    2316|\n",
            "|    guess_passwd.|      53|\n",
            "|         ipsweep.|   12481|\n",
            "|       portsweep.|   10413|\n",
            "|           satan.|   15892|\n",
            "|            land.|      21|\n",
            "|      loadmodule.|       9|\n",
            "|       ftp_write.|       8|\n",
            "| buffer_overflow.|      30|\n",
            "|         rootkit.|      10|\n",
            "|     warezclient.|    1020|\n",
            "|        teardrop.|     979|\n",
            "|            perl.|       3|\n",
            "|             phf.|       4|\n",
            "|        multihop.|       7|\n",
            "|         neptune.| 1072017|\n",
            "+-----------------+--------+\n",
            "only showing top 20 rows\n",
            "\n"
          ]
        }
      ]
    },
    {
      "cell_type": "code",
      "source": [
        "import numpy as np \n",
        "import matplotlib.pyplot as plt \n",
        "import pandas as pd\n",
        "pandas_df = sqlDF.toPandas()\n",
        "pandas_df.sort_values(by='count(1)',ascending=False).plot(x ='connection_status', y='count(1)', kind = 'bar')\n"
      ],
      "metadata": {
        "colab": {
          "base_uri": "https://localhost:8080/",
          "height": 379
        },
        "id": "8oi5aary0G1b",
        "outputId": "ce8c1cd6-4a3d-46c8-fedd-32134e9c9989"
      },
      "execution_count": null,
      "outputs": [
        {
          "output_type": "execute_result",
          "data": {
            "text/plain": [
              "<matplotlib.axes._subplots.AxesSubplot at 0x7f57a01fb910>"
            ]
          },
          "metadata": {},
          "execution_count": 18
        },
        {
          "output_type": "display_data",
          "data": {
            "text/plain": [
              "<Figure size 432x288 with 1 Axes>"
            ],
            "image/png": "[encoded data removed]"
          },
          "metadata": {
            "needs_background": "light"
          }
        }
      ]
    },
    {
      "cell_type": "code",
      "source": [
        "pandas_df.sort_values(by='count(1)',ascending=False).plot(x ='connection_status', y='count(1)', kind = 'bar', logy=True)"
      ],
      "metadata": {
        "colab": {
          "base_uri": "https://localhost:8080/",
          "height": 368
        },
        "id": "ytYm5noZ0N3p",
        "outputId": "389f5f71-524f-4c2c-9ae4-e2e0da4b03b9"
      },
      "execution_count": null,
      "outputs": [
        {
          "output_type": "execute_result",
          "data": {
            "text/plain": [
              "<matplotlib.axes._subplots.AxesSubplot at 0x7f579ddc7890>"
            ]
          },
          "metadata": {},
          "execution_count": 19
        },
        {
          "output_type": "display_data",
          "data": {
            "text/plain": [
              "<Figure size 432x288 with 1 Axes>"
            ],
            "image/png": "[encoded data removed]"
          },
          "metadata": {
            "needs_background": "light"
          }
        }
      ]
    },
    {
      "cell_type": "code",
      "source": [
        "sqlDF = spark.sql(\"SELECT protocol_type, count(*) FROM KddView GROUP BY protocol_type\")\n",
        "sqlDF.show()\n"
      ],
      "metadata": {
        "colab": {
          "base_uri": "https://localhost:8080/"
        },
        "id": "GNe2SMwK0QZh",
        "outputId": "223f5ade-9b33-417a-a2c5-53278e3fc889"
      },
      "execution_count": null,
      "outputs": [
        {
          "output_type": "stream",
          "name": "stdout",
          "text": [
            "+-------------+--------+\n",
            "|protocol_type|count(1)|\n",
            "+-------------+--------+\n",
            "|          tcp| 1870598|\n",
            "|          udp|  194288|\n",
            "|         icmp| 2833545|\n",
            "+-------------+--------+\n",
            "\n"
          ]
        }
      ]
    },
    {
      "cell_type": "code",
      "source": [
        "pandas_df = sqlDF.toPandas()\n",
        "pandas_df.sort_values(by='count(1)',ascending=False).plot(x ='protocol_type', y='count(1)', kind = 'bar')\n"
      ],
      "metadata": {
        "colab": {
          "base_uri": "https://localhost:8080/",
          "height": 323
        },
        "id": "u8WzwWVg0VGi",
        "outputId": "1fe440ce-8e42-4a2a-c8a0-f70cf559a3ce"
      },
      "execution_count": null,
      "outputs": [
        {
          "output_type": "execute_result",
          "data": {
            "text/plain": [
              "<matplotlib.axes._subplots.AxesSubplot at 0x7f579d70c3d0>"
            ]
          },
          "metadata": {},
          "execution_count": 21
        },
        {
          "output_type": "display_data",
          "data": {
            "text/plain": [
              "<Figure size 432x288 with 1 Axes>"
            ],
            "image/png": "[encoded data removed]"
          },
          "metadata": {
            "needs_background": "light"
          }
        }
      ]
    },
    {
      "cell_type": "code",
      "source": [
        "pandas_df.plot(x ='protocol_type', y='count(1)', kind = 'pie')"
      ],
      "metadata": {
        "colab": {
          "base_uri": "https://localhost:8080/",
          "height": 266
        },
        "id": "ZVpQifax0ZAa",
        "outputId": "a02bdfd8-ac6c-454f-9652-db758315b32b"
      },
      "execution_count": null,
      "outputs": [
        {
          "output_type": "execute_result",
          "data": {
            "text/plain": [
              "<matplotlib.axes._subplots.AxesSubplot at 0x7f579d61f490>"
            ]
          },
          "metadata": {},
          "execution_count": 22
        },
        {
          "output_type": "display_data",
          "data": {
            "text/plain": [
              "<Figure size 432x288 with 1 Axes>"
            ],
            "image/png": "[encoded data removed]"
          },
          "metadata": {}
        }
      ]
    },
    {
      "cell_type": "code",
      "source": [
        "sqlDF = spark.sql(\"SELECT DISTINCT service from KddView where is_host_login=0 and protocol_type='udp'\") \n",
        "sqlDF.show()\n"
      ],
      "metadata": {
        "colab": {
          "base_uri": "https://localhost:8080/"
        },
        "id": "Mw2f4JZj0e-5",
        "outputId": "486959a1-f1e1-45fe-bf5d-09aaf0ba0d4a"
      },
      "execution_count": null,
      "outputs": [
        {
          "output_type": "stream",
          "name": "stdout",
          "text": [
            "+--------+\n",
            "| service|\n",
            "+--------+\n",
            "|   ntp_u|\n",
            "|  tftp_u|\n",
            "|domain_u|\n",
            "|   other|\n",
            "| private|\n",
            "+--------+\n",
            "\n"
          ]
        }
      ]
    },
    {
      "cell_type": "code",
      "source": [
        "sqlDF = spark.sql(\"SELECT service, count(*) from KddView where is_host_login=0 and protocol_type='udp' group by service;\")\n",
        "sqlDF.show()\n"
      ],
      "metadata": {
        "colab": {
          "base_uri": "https://localhost:8080/"
        },
        "id": "8MziY4Q10mIy",
        "outputId": "59bf4e52-923e-4bab-f9c7-e7cf52f6d19c"
      },
      "execution_count": null,
      "outputs": [
        {
          "output_type": "stream",
          "name": "stdout",
          "text": [
            "+--------+--------+\n",
            "| service|count(1)|\n",
            "+--------+--------+\n",
            "|   ntp_u|    3833|\n",
            "|  tftp_u|       3|\n",
            "|domain_u|   57782|\n",
            "|   other|   56155|\n",
            "| private|   76515|\n",
            "+--------+--------+\n",
            "\n"
          ]
        }
      ]
    },
    {
      "cell_type": "code",
      "source": [
        "pandas_df = sqlDF.toPandas()\n",
        "pandas_df.sort_values(by='count(1)',ascending=False).plot(x ='service', y='count(1)', kind = 'bar')\n"
      ],
      "metadata": {
        "colab": {
          "base_uri": "https://localhost:8080/",
          "height": 339
        },
        "id": "1A9TmvGs0uua",
        "outputId": "9ad28b3b-70bc-4e64-c8de-1ddc58dcf527"
      },
      "execution_count": null,
      "outputs": [
        {
          "output_type": "execute_result",
          "data": {
            "text/plain": [
              "<matplotlib.axes._subplots.AxesSubplot at 0x7f579d5df490>"
            ]
          },
          "metadata": {},
          "execution_count": 25
        },
        {
          "output_type": "display_data",
          "data": {
            "text/plain": [
              "<Figure size 432x288 with 1 Axes>"
            ],
            "image/png": "[encoded data removed]"
          },
          "metadata": {
            "needs_background": "light"
          }
        }
      ]
    },
    {
      "cell_type": "code",
      "source": [
        "pandas_df.plot(x ='service', y='count(1)', kind = 'pie')"
      ],
      "metadata": {
        "colab": {
          "base_uri": "https://localhost:8080/",
          "height": 266
        },
        "id": "QoA9t5lO02Eh",
        "outputId": "a302ccd3-b7ba-4d54-99e4-a3cde3670d11"
      },
      "execution_count": null,
      "outputs": [
        {
          "output_type": "execute_result",
          "data": {
            "text/plain": [
              "<matplotlib.axes._subplots.AxesSubplot at 0x7f579d558c90>"
            ]
          },
          "metadata": {},
          "execution_count": 26
        },
        {
          "output_type": "display_data",
          "data": {
            "text/plain": [
              "<Figure size 432x288 with 1 Axes>"
            ],
            "image/png": "[encoded data removed]"
          },
          "metadata": {}
        }
      ]
    },
    {
      "cell_type": "code",
      "source": [
        "sqlDF = spark.sql(\"SELECT DISTINCT connection_status from KddView where connection_status<>'normal.'\") \n",
        "sqlDF.show()\n"
      ],
      "metadata": {
        "colab": {
          "base_uri": "https://localhost:8080/"
        },
        "id": "KkoBk2yR05aa",
        "outputId": "1664f422-2f5a-49ff-9ede-77ed3ae0032c"
      },
      "execution_count": null,
      "outputs": [
        {
          "output_type": "stream",
          "name": "stdout",
          "text": [
            "+-----------------+\n",
            "|connection_status|\n",
            "+-----------------+\n",
            "|     warezmaster.|\n",
            "|           smurf.|\n",
            "|             pod.|\n",
            "|            imap.|\n",
            "|            nmap.|\n",
            "|    guess_passwd.|\n",
            "|         ipsweep.|\n",
            "|       portsweep.|\n",
            "|           satan.|\n",
            "|            land.|\n",
            "|      loadmodule.|\n",
            "|       ftp_write.|\n",
            "| buffer_overflow.|\n",
            "|         rootkit.|\n",
            "|     warezclient.|\n",
            "|        teardrop.|\n",
            "|            perl.|\n",
            "|             phf.|\n",
            "|        multihop.|\n",
            "|         neptune.|\n",
            "+-----------------+\n",
            "only showing top 20 rows\n",
            "\n"
          ]
        }
      ]
    },
    {
      "cell_type": "code",
      "source": [
        "sqlDF = spark.sql(\"SELECT connection_status, count(*) from KddView where connection_status<>'normal.' GROUP BY connection_status\") \n",
        "sqlDF.show()\n"
      ],
      "metadata": {
        "colab": {
          "base_uri": "https://localhost:8080/"
        },
        "id": "kED9K1p_0_QC",
        "outputId": "5a3356d6-32a1-43ec-9f8d-51d470ef477e"
      },
      "execution_count": null,
      "outputs": [
        {
          "output_type": "stream",
          "name": "stdout",
          "text": [
            "+-----------------+--------+\n",
            "|connection_status|count(1)|\n",
            "+-----------------+--------+\n",
            "|     warezmaster.|      20|\n",
            "|           smurf.| 2807886|\n",
            "|             pod.|     264|\n",
            "|            imap.|      12|\n",
            "|            nmap.|    2316|\n",
            "|    guess_passwd.|      53|\n",
            "|         ipsweep.|   12481|\n",
            "|       portsweep.|   10413|\n",
            "|           satan.|   15892|\n",
            "|            land.|      21|\n",
            "|      loadmodule.|       9|\n",
            "|       ftp_write.|       8|\n",
            "| buffer_overflow.|      30|\n",
            "|         rootkit.|      10|\n",
            "|     warezclient.|    1020|\n",
            "|        teardrop.|     979|\n",
            "|            perl.|       3|\n",
            "|             phf.|       4|\n",
            "|        multihop.|       7|\n",
            "|         neptune.| 1072017|\n",
            "+-----------------+--------+\n",
            "only showing top 20 rows\n",
            "\n"
          ]
        }
      ]
    },
    {
      "cell_type": "code",
      "source": [
        "pandas_df = sqlDF.toPandas()\n",
        "pandas_df.sort_values(by='count(1)',ascending=False).plot(x ='connection_status', y='count(1)', kind = 'bar')"
      ],
      "metadata": {
        "colab": {
          "base_uri": "https://localhost:8080/",
          "height": 379
        },
        "id": "vYDGc1eS1KBh",
        "outputId": "48fb0f65-9d44-4d56-eaec-fa1abf56c94a"
      },
      "execution_count": null,
      "outputs": [
        {
          "output_type": "execute_result",
          "data": {
            "text/plain": [
              "<matplotlib.axes._subplots.AxesSubplot at 0x7f579d4d9210>"
            ]
          },
          "metadata": {},
          "execution_count": 31
        },
        {
          "output_type": "display_data",
          "data": {
            "text/plain": [
              "<Figure size 432x288 with 1 Axes>"
            ],
            "image/png": "[encoded data removed]"
          },
          "metadata": {
            "needs_background": "light"
          }
        }
      ]
    },
    {
      "cell_type": "code",
      "source": [
        "pandas_df.sort_values(by='count(1)',ascending=False).plot(x ='connection_status', y='count(1)', kind = 'bar', logy=True)"
      ],
      "metadata": {
        "colab": {
          "base_uri": "https://localhost:8080/",
          "height": 368
        },
        "id": "Sd-N8x8h1Xba",
        "outputId": "13256fbd-c83c-458a-eb68-55149cd54d2e"
      },
      "execution_count": null,
      "outputs": [
        {
          "output_type": "execute_result",
          "data": {
            "text/plain": [
              "<matplotlib.axes._subplots.AxesSubplot at 0x7f579d3b3050>"
            ]
          },
          "metadata": {},
          "execution_count": 32
        },
        {
          "output_type": "display_data",
          "data": {
            "text/plain": [
              "<Figure size 432x288 with 1 Axes>"
            ],
            "image/png": "[encoded data removed]"
          },
          "metadata": {
            "needs_background": "light"
          }
        }
      ]
    },
    {
      "cell_type": "code",
      "source": [
        "sqlDF = spark.sql(\"SELECT DISTINCT service from KddView where dst_bytes>1000 and protocol_type='tcp'\")\n",
        "sqlDF.show()"
      ],
      "metadata": {
        "colab": {
          "base_uri": "https://localhost:8080/"
        },
        "id": "aWStY9Fk1bss",
        "outputId": "d82ec029-11a8-44ac-d33c-ff8abfc34e98"
      },
      "execution_count": null,
      "outputs": [
        {
          "output_type": "stream",
          "name": "stdout",
          "text": [
            "+--------+\n",
            "| service|\n",
            "+--------+\n",
            "|  telnet|\n",
            "|     ftp|\n",
            "|     X11|\n",
            "|   pop_3|\n",
            "|   login|\n",
            "|    smtp|\n",
            "|  domain|\n",
            "|    http|\n",
            "|   other|\n",
            "|     IRC|\n",
            "| private|\n",
            "|ftp_data|\n",
            "|  finger|\n",
            "|   imap4|\n",
            "|     ssh|\n",
            "+--------+\n",
            "\n"
          ]
        }
      ]
    },
    {
      "cell_type": "code",
      "source": [
        "sqlDF = spark.sql(\"SELECT service, count(*) from KddView where dst_bytes>1000 and protocol_type='tcp' GROUP BY service\") \n",
        "sqlDF.show()\n"
      ],
      "metadata": {
        "colab": {
          "base_uri": "https://localhost:8080/"
        },
        "id": "KMDQ1jxc1lOS",
        "outputId": "8e095dad-a9c6-45c2-866f-a7a3434d1b33"
      },
      "execution_count": null,
      "outputs": [
        {
          "output_type": "stream",
          "name": "stdout",
          "text": [
            "+--------+--------+\n",
            "| service|count(1)|\n",
            "+--------+--------+\n",
            "|  telnet|    2145|\n",
            "|     ftp|    2858|\n",
            "|     X11|      91|\n",
            "|   pop_3|     460|\n",
            "|   login|       2|\n",
            "|    smtp|    1851|\n",
            "|  domain|       3|\n",
            "|    http|  370237|\n",
            "|   other|       1|\n",
            "|     IRC|     341|\n",
            "| private|       3|\n",
            "|ftp_data|      64|\n",
            "|  finger|       2|\n",
            "|   imap4|       3|\n",
            "|     ssh|       7|\n",
            "+--------+--------+\n",
            "\n"
          ]
        }
      ]
    },
    {
      "cell_type": "code",
      "source": [
        "pandas_df = sqlDF.toPandas()\n",
        "pandas_df.sort_values(by='count(1)',ascending=False).plot(x ='service', y='count(1)', kind = 'bar')\n"
      ],
      "metadata": {
        "colab": {
          "base_uri": "https://localhost:8080/",
          "height": 328
        },
        "id": "h2rGGqjC1pmC",
        "outputId": "b375610b-607b-46e1-e39d-f535fb27ae2a"
      },
      "execution_count": null,
      "outputs": [
        {
          "output_type": "execute_result",
          "data": {
            "text/plain": [
              "<matplotlib.axes._subplots.AxesSubplot at 0x7f579d404a50>"
            ]
          },
          "metadata": {},
          "execution_count": 37
        },
        {
          "output_type": "display_data",
          "data": {
            "text/plain": [
              "<Figure size 432x288 with 1 Axes>"
            ],
            "image/png": "[encoded data removed]"
          },
          "metadata": {
            "needs_background": "light"
          }
        }
      ]
    },
    {
      "cell_type": "code",
      "source": [
        "pandas_df.sort_values(by='count(1)',ascending=False).plot(x ='service', y='count(1)', kind = 'bar', logy=True)"
      ],
      "metadata": {
        "colab": {
          "base_uri": "https://localhost:8080/",
          "height": 328
        },
        "id": "-SlSW5o7107C",
        "outputId": "cefe0a6f-f958-4a98-e100-711865964f8b"
      },
      "execution_count": null,
      "outputs": [
        {
          "output_type": "execute_result",
          "data": {
            "text/plain": [
              "<matplotlib.axes._subplots.AxesSubplot at 0x7f579d422150>"
            ]
          },
          "metadata": {},
          "execution_count": 38
        },
        {
          "output_type": "display_data",
          "data": {
            "text/plain": [
              "<Figure size 432x288 with 1 Axes>"
            ],
            "image/png": "[encoded data removed]"
          },
          "metadata": {
            "needs_background": "light"
          }
        }
      ]
    },
    {
      "cell_type": "code",
      "source": [
        "!pip install nbconvert\n",
        "!jupyter nbconvert --to html KDDCup.ipynb"
      ],
      "metadata": {
        "colab": {
          "base_uri": "https://localhost:8080/"
        },
        "id": "csbjDPSZ3DaL",
        "outputId": "26e89555-439a-4ef3-acb2-a1e4d58a2ae7"
      },
      "execution_count": null,
      "outputs": [
        {
          "output_type": "stream",
          "name": "stdout",
          "text": [
            "Looking in indexes: https://pypi.org/simple, https://us-python.pkg.dev/colab-wheels/public/simple/\n",
            "Requirement already satisfied: nbconvert in /usr/local/lib/python3.7/dist-packages (5.6.1)\n",
            "Requirement already satisfied: mistune<2,>=0.8.1 in /usr/local/lib/python3.7/dist-packages (from nbconvert) (0.8.4)\n",
            "Requirement already satisfied: bleach in /usr/local/lib/python3.7/dist-packages (from nbconvert) (5.0.1)\n",
            "Requirement already satisfied: testpath in /usr/local/lib/python3.7/dist-packages (from nbconvert) (0.6.0)\n",
            "Requirement already satisfied: entrypoints>=0.2.2 in /usr/local/lib/python3.7/dist-packages (from nbconvert) (0.4)\n",
            "Requirement already satisfied: jinja2>=2.4 in /usr/local/lib/python3.7/dist-packages (from nbconvert) (2.11.3)\n",
            "Requirement already satisfied: defusedxml in /usr/local/lib/python3.7/dist-packages (from nbconvert) (0.7.1)\n",
            "Requirement already satisfied: jupyter-core in /usr/local/lib/python3.7/dist-packages (from nbconvert) (4.11.2)\n",
            "Requirement already satisfied: pandocfilters>=1.4.1 in /usr/local/lib/python3.7/dist-packages (from nbconvert) (1.5.0)\n",
            "Requirement already satisfied: traitlets>=4.2 in /usr/local/lib/python3.7/dist-packages (from nbconvert) (5.1.1)\n",
            "Requirement already satisfied: pygments in /usr/local/lib/python3.7/dist-packages (from nbconvert) (2.6.1)\n",
            "Requirement already satisfied: nbformat>=4.4 in /usr/local/lib/python3.7/dist-packages (from nbconvert) (5.7.0)\n",
            "Requirement already satisfied: MarkupSafe>=0.23 in /usr/local/lib/python3.7/dist-packages (from jinja2>=2.4->nbconvert) (2.0.1)\n",
            "Requirement already satisfied: importlib-metadata>=3.6 in /usr/local/lib/python3.7/dist-packages (from nbformat>=4.4->nbconvert) (4.13.0)\n",
            "Requirement already satisfied: fastjsonschema in /usr/local/lib/python3.7/dist-packages (from nbformat>=4.4->nbconvert) (2.16.2)\n",
            "Requirement already satisfied: jsonschema>=2.6 in /usr/local/lib/python3.7/dist-packages (from nbformat>=4.4->nbconvert) (4.3.3)\n",
            "Requirement already satisfied: zipp>=0.5 in /usr/local/lib/python3.7/dist-packages (from importlib-metadata>=3.6->nbformat>=4.4->nbconvert) (3.10.0)\n",
            "Requirement already satisfied: typing-extensions>=3.6.4 in /usr/local/lib/python3.7/dist-packages (from importlib-metadata>=3.6->nbformat>=4.4->nbconvert) (4.1.1)\n",
            "Requirement already satisfied: attrs>=17.4.0 in /usr/local/lib/python3.7/dist-packages (from jsonschema>=2.6->nbformat>=4.4->nbconvert) (22.1.0)\n",
            "Requirement already satisfied: importlib-resources>=1.4.0 in /usr/local/lib/python3.7/dist-packages (from jsonschema>=2.6->nbformat>=4.4->nbconvert) (5.10.0)\n",
            "Requirement already satisfied: pyrsistent!=0.17.0,!=0.17.1,!=0.17.2,>=0.14.0 in /usr/local/lib/python3.7/dist-packages (from jsonschema>=2.6->nbformat>=4.4->nbconvert) (0.19.2)\n",
            "Requirement already satisfied: six>=1.9.0 in /usr/local/lib/python3.7/dist-packages (from bleach->nbconvert) (1.15.0)\n",
            "Requirement already satisfied: webencodings in /usr/local/lib/python3.7/dist-packages (from bleach->nbconvert) (0.5.1)\n",
            "[NbConvertApp] Converting notebook KDDCup.ipynb to html\n",
            "[NbConvertApp] Writing 487934 bytes to KDDCup.html\n"
          ]
        }
      ]
    }
  ]
}